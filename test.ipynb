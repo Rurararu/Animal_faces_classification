{
 "cells": [
  {
   "metadata": {
    "ExecuteTime": {
     "end_time": "2025-09-21T11:50:52.280173Z",
     "start_time": "2025-09-21T11:50:52.242134Z"
    }
   },
   "cell_type": "code",
   "source": [
    "import torch\n",
    "from torch import nn\n",
    "from torchvision.transforms import transforms\n",
    "from PIL import Image\n",
    "import pickle\n",
    "\n",
    "device = \"cuda\" if torch.cuda.is_available() else \"cpu\"\n",
    "print(device)"
   ],
   "id": "c773dfdbd6ba4192",
   "outputs": [
    {
     "name": "stdout",
     "output_type": "stream",
     "text": [
      "cpu\n"
     ]
    }
   ],
   "execution_count": 5
  },
  {
   "metadata": {
    "ExecuteTime": {
     "end_time": "2025-09-21T11:44:49.022668Z",
     "start_time": "2025-09-21T11:44:49.013397Z"
    }
   },
   "cell_type": "code",
   "source": [
    "class Net(nn.Module):\n",
    "    def __init__(self):\n",
    "        super().__init__()\n",
    "\n",
    "        self.conv1 = nn.Conv2d(3, 32, kernel_size=3, padding=1)\n",
    "        self.conv2 = nn.Conv2d(32, 64, kernel_size=3, padding=1)\n",
    "        self.conv3 = nn.Conv2d(64, 128, kernel_size=3, padding=1)\n",
    "\n",
    "        self.pooling = nn.MaxPool2d(2, 2)\n",
    "\n",
    "        self.relu = nn.ReLU()\n",
    "        self.flatten = nn.Flatten()\n",
    "\n",
    "        self.linear = nn.Linear((128 * 16 * 16), 128)\n",
    "\n",
    "        self.output = nn.Linear(128, 3)\n",
    "\n",
    "    def forward(self, x):\n",
    "        x = self.conv1(x)  # -> (32, 128, 128)\n",
    "        x = self.pooling(x)  # -> (32, 64, 64)\n",
    "        x = self.relu(x)\n",
    "\n",
    "        x = self.conv2(x)  # -> (64, 64, 64)\n",
    "        x = self.pooling(x)  # -> (64, 32, 32)\n",
    "        x = self.relu(x)\n",
    "\n",
    "        x = self.conv3(x)  # -> (128, 32, 32)\n",
    "        x = self.pooling(x)  # -> (128, 16, 16)\n",
    "        x = self.relu(x)\n",
    "\n",
    "        x = self.flatten(x)\n",
    "        x = self.linear(x)\n",
    "        x = self.output(x)\n",
    "        return x\n"
   ],
   "id": "33bbfff5a21074c",
   "outputs": [],
   "execution_count": 2
  },
  {
   "metadata": {
    "ExecuteTime": {
     "end_time": "2025-09-21T11:45:13.585011Z",
     "start_time": "2025-09-21T11:45:13.489993Z"
    }
   },
   "cell_type": "code",
   "source": [
    "model_load = Net().to(device)\n",
    "\n",
    "model_load.load_state_dict(torch.load(\"animal_faces_model.pth\"))\n",
    "model_load.eval()"
   ],
   "id": "e207e3763c0410ae",
   "outputs": [
    {
     "data": {
      "text/plain": [
       "Net(\n",
       "  (conv1): Conv2d(3, 32, kernel_size=(3, 3), stride=(1, 1), padding=(1, 1))\n",
       "  (conv2): Conv2d(32, 64, kernel_size=(3, 3), stride=(1, 1), padding=(1, 1))\n",
       "  (conv3): Conv2d(64, 128, kernel_size=(3, 3), stride=(1, 1), padding=(1, 1))\n",
       "  (pooling): MaxPool2d(kernel_size=2, stride=2, padding=0, dilation=1, ceil_mode=False)\n",
       "  (relu): ReLU()\n",
       "  (flatten): Flatten(start_dim=1, end_dim=-1)\n",
       "  (linear): Linear(in_features=32768, out_features=128, bias=True)\n",
       "  (output): Linear(in_features=128, out_features=3, bias=True)\n",
       ")"
      ]
     },
     "execution_count": 3,
     "metadata": {},
     "output_type": "execute_result"
    }
   ],
   "execution_count": 3
  },
  {
   "metadata": {
    "ExecuteTime": {
     "end_time": "2025-09-21T11:51:00.766703Z",
     "start_time": "2025-09-21T11:51:00.745552Z"
    }
   },
   "cell_type": "code",
   "source": [
    "with open(\"label_encoder.pkl\", \"rb\") as f:\n",
    "    label_encoder = pickle.load(f)\n",
    "\n",
    "transform = transforms.Compose([\n",
    "    transforms.Resize((128, 128)),\n",
    "    transforms.ToTensor(),\n",
    "    transforms.ConvertImageDtype(torch.float)\n",
    "])"
   ],
   "id": "86b56146b3fda07b",
   "outputs": [],
   "execution_count": 6
  },
  {
   "metadata": {
    "ExecuteTime": {
     "end_time": "2025-09-21T11:51:17.895176Z",
     "start_time": "2025-09-21T11:51:17.863208Z"
    }
   },
   "cell_type": "code",
   "source": [
    "def predict_image_load(img_path):\n",
    "    image = Image.open(img_path).convert(\"RGB\")\n",
    "    image = transform(image).to(device)\n",
    "    prediction = model_load(image.unsqueeze(0))\n",
    "    prediction = torch.argmax(prediction, axis=1).item()\n",
    "\n",
    "    return label_encoder.inverse_transform([prediction])\n",
    "\n",
    "\n",
    "predict_image_load(\"download.jpg\")"
   ],
   "id": "20ad51cd6fc8d2e4",
   "outputs": [
    {
     "data": {
      "text/plain": [
       "array(['wild'], dtype=object)"
      ]
     },
     "execution_count": 8,
     "metadata": {},
     "output_type": "execute_result"
    }
   ],
   "execution_count": 8
  }
 ],
 "metadata": {
  "kernelspec": {
   "display_name": "Python 3",
   "language": "python",
   "name": "python3"
  },
  "language_info": {
   "codemirror_mode": {
    "name": "ipython",
    "version": 2
   },
   "file_extension": ".py",
   "mimetype": "text/x-python",
   "name": "python",
   "nbconvert_exporter": "python",
   "pygments_lexer": "ipython2",
   "version": "2.7.6"
  }
 },
 "nbformat": 4,
 "nbformat_minor": 5
}
